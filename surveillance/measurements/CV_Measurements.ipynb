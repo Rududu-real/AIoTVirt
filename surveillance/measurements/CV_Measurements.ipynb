{
 "cells": [
  {
   "cell_type": "markdown",
   "metadata": {},
   "source": [
    "### WARNING: For this function to work you have to manually delete the _**two** empty newlines_ at the end of the raw meassurement files, else the for loop will exit abnormally (it'll think there is one extra block)."
   ]
  },
  {
   "cell_type": "code",
   "execution_count": 49,
   "metadata": {
    "collapsed": true
   },
   "outputs": [],
   "source": [
    "def meass2df(meass_path):\n",
    "    # Open the file and separate it in blocks (each block is delimited by an empty newline)\n",
    "    with open(meass_path, 'r') as meass:\n",
    "        blocks = meass.read().split(\"\\n\\n\")\n",
    "    \n",
    "    # initialize empty arrays that we will give to the data frame\n",
    "    width = []\n",
    "    fps = []\n",
    "    num_psr = []\n",
    "    pcpu_grp = []\n",
    "\n",
    "    for block in blocks:\n",
    "        pcpu = []\n",
    "        s = set()\n",
    "        # blocks are still a single line, we split them into single lines\n",
    "        lines = block.split(\"\\n\")\n",
    "        # I made the processes first write the frame width and then fps so it\n",
    "        # is safe to assume they will always be the first two lines\n",
    "        width.append(int(lines[0]))\n",
    "        fps.append(float(lines[1]))\n",
    "        # we look for the lines that are relevant for the desired meassurement\n",
    "        # and append the necessary data\n",
    "        for line in lines[2:]:\n",
    "            elems = line.split()\n",
    "            if elems[0].find(\"Eye\") != -1:\n",
    "                s.add(elems[-2])\n",
    "                pcpu.append(float(elems[-1]))\n",
    "        num_psr.append(len(s))\n",
    "        pcpu_grp.append(pcpu)\n",
    "\n",
    "    # create the data frame from the \"labeled\" lists\n",
    "    df = pd.DataFrame({\"width\" : width,\n",
    "                          \"fps\" : fps,\n",
    "                          \"num_psrs\" : num_psr,\n",
    "                          \"cpu_p1\" : [x[0] for x in pcpu_grp],\n",
    "                         \"cpu_p2\" : [x[1] for x in pcpu_grp],\n",
    "                         \"cpu_p3\" : [x[2] for x in pcpu_grp],\n",
    "                         \"cpu_p4\" : [x[3] for x in pcpu_grp],\n",
    "                         \"cpu_p5\" : [x[4] for x in pcpu_grp]})\n",
    "\n",
    "    return df"
   ]
  },
  {
   "cell_type": "code",
   "execution_count": 50,
   "metadata": {
    "collapsed": true
   },
   "outputs": [],
   "source": [
    "# Change file paths accordingly\n",
    "df_eye = meass2df(\"/home/dv/Documents/Uni/KAIST/CDSN/Misc/EyeDet_stats\")\n",
    "df_face = meass2df(\"/home/dv/Documents/Uni/KAIST/CDSN/Misc/FaceDet_stats\")"
   ]
  },
  {
   "cell_type": "code",
   "execution_count": 51,
   "metadata": {
    "collapsed": true
   },
   "outputs": [],
   "source": [
    "# Optionally save to csv\n",
    "df_eye.to_csv(\"/home/dv/Documents/Uni/KAIST/CDSN/Misc/EyeDet_meass_raw.csv\")\n",
    "df_face.to_csv(\"/home/dv/Documents/Uni/KAIST/CDSN/Misc/FaceDet_meass_raw.csv\")"
   ]
  },
  {
   "cell_type": "code",
   "execution_count": 64,
   "metadata": {
    "collapsed": true
   },
   "outputs": [],
   "source": [
    "width_grp_eye = df_eye.groupby(\"width\")\n",
    "width_grp_face = df_face.groupby(\"width\")"
   ]
  },
  {
   "cell_type": "code",
   "execution_count": 59,
   "metadata": {
    "collapsed": true
   },
   "outputs": [],
   "source": [
    "df_eye[\"cpu_tot\"] = df_eye[\"cpu_p1\"] + df_eye[\"cpu_p2\"] + df_eye[\"cpu_p3\"] + df_eye[\"cpu_p4\"] + df_eye[\"cpu_p5\"]"
   ]
  },
  {
   "cell_type": "code",
   "execution_count": 61,
   "metadata": {
    "collapsed": true
   },
   "outputs": [],
   "source": [
    "df_face[\"cpu_tot\"] = df_face[\"cpu_p1\"] + df_face[\"cpu_p2\"] + df_face[\"cpu_p3\"] + df_face[\"cpu_p4\"] + df_face[\"cpu_p5\"]"
   ]
  },
  {
   "cell_type": "code",
   "execution_count": 69,
   "metadata": {
    "collapsed": true
   },
   "outputs": [],
   "source": [
    "df_data = []\n",
    "idx_1 = []\n",
    "idx_2 = []\n",
    "for label, groups in zip([\"Eye\", \"Face\"], [width_grp_eye, width_grp_face]):\n",
    "    for key, data in groups:\n",
    "        row = []\n",
    "        avg_pcpu = data[\"cpu_tot\"].mean()\n",
    "        avg_psr = data[\"num_psrs\"].mean()\n",
    "        avg_cpu_psr = avg_pcpu / avg_psr\n",
    "        avg_fps = data[\"fps\"].mean()\n",
    "        # create levels for MultiIndex\n",
    "        idx_1.append(label)\n",
    "        idx_2.append(str(key))\n",
    "        # Append row data for sublevel\n",
    "        row.append(avg_fps)\n",
    "        row.append(avg_pcpu)\n",
    "        row.append(avg_cpu_psr)\n",
    "        row.append(avg_psr)\n",
    "        df_data.append(row)\n",
    "        # print(\"AvgCPU: {cpu}\\nAvgCPUperPSR: {cpu_psr}\\nAvgFPS: {fps}\\n\".format(cpu=avg_pcpu, cpu_psr=avg_cpu_psr, fps=avg_fps))\n",
    "\n",
    "arrays = [idx_1, idx_2]    \n",
    "df_all = pd.DataFrame(df_data, index=arrays, columns=[\"AvgFPS\", \"AvgCPU\", \"AvgCPU/PSR\", \"AvgPSR\"])"
   ]
  },
  {
   "cell_type": "markdown",
   "metadata": {},
   "source": [
    "The first index refers to the haarcascade classifier used. The second index refers to the _width_ of the scaled frame. The height is calculated according to the ratio of the original resolution. The ratio is usually $1.\\overline{33}:1.00$. An example is w=640 h=480, $\\frac{w}{h} = 1.33$"
   ]
  },
  {
   "cell_type": "code",
   "execution_count": 70,
   "metadata": {
    "scrolled": false
   },
   "outputs": [
    {
     "data": {
      "text/html": [
       "<div>\n",
       "<style scoped>\n",
       "    .dataframe tbody tr th:only-of-type {\n",
       "        vertical-align: middle;\n",
       "    }\n",
       "\n",
       "    .dataframe tbody tr th {\n",
       "        vertical-align: top;\n",
       "    }\n",
       "\n",
       "    .dataframe thead th {\n",
       "        text-align: right;\n",
       "    }\n",
       "</style>\n",
       "<table border=\"1\" class=\"dataframe\">\n",
       "  <thead>\n",
       "    <tr style=\"text-align: right;\">\n",
       "      <th></th>\n",
       "      <th></th>\n",
       "      <th>AvgFPS</th>\n",
       "      <th>AvgCPU</th>\n",
       "      <th>AvgCPU/PSR</th>\n",
       "      <th>AvgPSR</th>\n",
       "    </tr>\n",
       "  </thead>\n",
       "  <tbody>\n",
       "    <tr>\n",
       "      <th rowspan=\"7\" valign=\"top\">Eye</th>\n",
       "      <th>250</th>\n",
       "      <td>8.233171</td>\n",
       "      <td>129.242857</td>\n",
       "      <td>37.307216</td>\n",
       "      <td>3.464286</td>\n",
       "    </tr>\n",
       "    <tr>\n",
       "      <th>300</th>\n",
       "      <td>5.866057</td>\n",
       "      <td>134.060714</td>\n",
       "      <td>39.101042</td>\n",
       "      <td>3.428571</td>\n",
       "    </tr>\n",
       "    <tr>\n",
       "      <th>350</th>\n",
       "      <td>4.256630</td>\n",
       "      <td>139.796296</td>\n",
       "      <td>42.892045</td>\n",
       "      <td>3.259259</td>\n",
       "    </tr>\n",
       "    <tr>\n",
       "      <th>400</th>\n",
       "      <td>2.701828</td>\n",
       "      <td>143.246154</td>\n",
       "      <td>40.927473</td>\n",
       "      <td>3.500000</td>\n",
       "    </tr>\n",
       "    <tr>\n",
       "      <th>450</th>\n",
       "      <td>2.025430</td>\n",
       "      <td>145.130435</td>\n",
       "      <td>44.506667</td>\n",
       "      <td>3.260870</td>\n",
       "    </tr>\n",
       "    <tr>\n",
       "      <th>500</th>\n",
       "      <td>1.658889</td>\n",
       "      <td>148.180000</td>\n",
       "      <td>41.623596</td>\n",
       "      <td>3.560000</td>\n",
       "    </tr>\n",
       "    <tr>\n",
       "      <th>550</th>\n",
       "      <td>1.310821</td>\n",
       "      <td>149.297222</td>\n",
       "      <td>47.146491</td>\n",
       "      <td>3.166667</td>\n",
       "    </tr>\n",
       "    <tr>\n",
       "      <th rowspan=\"7\" valign=\"top\">Face</th>\n",
       "      <th>250</th>\n",
       "      <td>11.656264</td>\n",
       "      <td>129.610714</td>\n",
       "      <td>36.291000</td>\n",
       "      <td>3.571429</td>\n",
       "    </tr>\n",
       "    <tr>\n",
       "      <th>300</th>\n",
       "      <td>8.102803</td>\n",
       "      <td>134.341379</td>\n",
       "      <td>39.352525</td>\n",
       "      <td>3.413793</td>\n",
       "    </tr>\n",
       "    <tr>\n",
       "      <th>350</th>\n",
       "      <td>6.415242</td>\n",
       "      <td>140.078571</td>\n",
       "      <td>40.856250</td>\n",
       "      <td>3.428571</td>\n",
       "    </tr>\n",
       "    <tr>\n",
       "      <th>400</th>\n",
       "      <td>4.288500</td>\n",
       "      <td>143.381481</td>\n",
       "      <td>42.079348</td>\n",
       "      <td>3.407407</td>\n",
       "    </tr>\n",
       "    <tr>\n",
       "      <th>450</th>\n",
       "      <td>3.540669</td>\n",
       "      <td>145.353846</td>\n",
       "      <td>42.945455</td>\n",
       "      <td>3.384615</td>\n",
       "    </tr>\n",
       "    <tr>\n",
       "      <th>500</th>\n",
       "      <td>2.351676</td>\n",
       "      <td>148.233333</td>\n",
       "      <td>43.385366</td>\n",
       "      <td>3.416667</td>\n",
       "    </tr>\n",
       "    <tr>\n",
       "      <th>550</th>\n",
       "      <td>1.966843</td>\n",
       "      <td>149.308696</td>\n",
       "      <td>44.310968</td>\n",
       "      <td>3.369565</td>\n",
       "    </tr>\n",
       "  </tbody>\n",
       "</table>\n",
       "</div>"
      ],
      "text/plain": [
       "             AvgFPS      AvgCPU  AvgCPU/PSR    AvgPSR\n",
       "Eye  250   8.233171  129.242857   37.307216  3.464286\n",
       "     300   5.866057  134.060714   39.101042  3.428571\n",
       "     350   4.256630  139.796296   42.892045  3.259259\n",
       "     400   2.701828  143.246154   40.927473  3.500000\n",
       "     450   2.025430  145.130435   44.506667  3.260870\n",
       "     500   1.658889  148.180000   41.623596  3.560000\n",
       "     550   1.310821  149.297222   47.146491  3.166667\n",
       "Face 250  11.656264  129.610714   36.291000  3.571429\n",
       "     300   8.102803  134.341379   39.352525  3.413793\n",
       "     350   6.415242  140.078571   40.856250  3.428571\n",
       "     400   4.288500  143.381481   42.079348  3.407407\n",
       "     450   3.540669  145.353846   42.945455  3.384615\n",
       "     500   2.351676  148.233333   43.385366  3.416667\n",
       "     550   1.966843  149.308696   44.310968  3.369565"
      ]
     },
     "execution_count": 70,
     "metadata": {},
     "output_type": "execute_result"
    }
   ],
   "source": [
    "df_all"
   ]
  },
  {
   "cell_type": "code",
   "execution_count": 71,
   "metadata": {
    "collapsed": true
   },
   "outputs": [],
   "source": [
    "df_all.to_csv(\"/home/dv/Documents/Uni/KAIST/CDSN/Misc/multiapp_meass.csv\")"
   ]
  },
  {
   "cell_type": "code",
   "execution_count": 72,
   "metadata": {
    "collapsed": true
   },
   "outputs": [],
   "source": [
    "df_all.to_latex(\"/home/dv/Documents/Uni/KAIST/CDSN/Misc/multiapp_meass.tex\")"
   ]
  },
  {
   "cell_type": "code",
   "execution_count": null,
   "metadata": {
    "collapsed": true
   },
   "outputs": [],
   "source": []
  }
 ],
 "metadata": {
  "kernelspec": {
   "display_name": "Python 3",
   "language": "python",
   "name": "python3"
  },
  "language_info": {
   "codemirror_mode": {
    "name": "ipython",
    "version": 3
   },
   "file_extension": ".py",
   "mimetype": "text/x-python",
   "name": "python",
   "nbconvert_exporter": "python",
   "pygments_lexer": "ipython3",
   "version": "3.5.2"
  }
 },
 "nbformat": 4,
 "nbformat_minor": 2
}
